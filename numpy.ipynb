{
 "nbformat": 4,
 "nbformat_minor": 0,
 "metadata": {
  "colab": {
   "provenance": [],
   "toc_visible": true
  },
  "kernelspec": {
   "name": "python3",
   "display_name": "Python 3 (ipykernel)",
   "language": "python"
  },
  "language_info": {
   "name": "python"
  }
 },
 "cells": [
  {
   "cell_type": "code",
   "metadata": {
    "id": "nguQApR2GCt5",
    "ExecuteTime": {
     "end_time": "2025-02-26T07:41:29.719476Z",
     "start_time": "2025-02-26T07:41:29.713665Z"
    }
   },
   "source": [
    "import numpy as np"
   ],
   "outputs": [],
   "execution_count": 6
  },
  {
   "cell_type": "markdown",
   "source": [
    "# Bai 1"
   ],
   "metadata": {
    "id": "tlI2Hm-1GNnu"
   }
  },
  {
   "cell_type": "code",
   "source": [
    "arr1 = np.arange(1, 11, 1)\n",
    "print(arr1)\n",
    "\n",
    "arr2 = np.reshape(arr1, (2, 5))\n",
    "print(arr2)\n",
    "\n",
    "arr2 = arr2[::-1]\n",
    "print(arr2)\n",
    "\n",
    "arr3 = np.random.randint(256, size = 10)\n",
    "print(arr3)\n"
   ],
   "metadata": {
    "colab": {
     "base_uri": "https://localhost:8080/"
    },
    "id": "T7b2OW6uG41F",
    "outputId": "a313fd37-ef07-44f3-b652-79d59d2843b4",
    "ExecuteTime": {
     "end_time": "2025-02-26T07:41:29.757108Z",
     "start_time": "2025-02-26T07:41:29.748467Z"
    }
   },
   "outputs": [
    {
     "name": "stdout",
     "output_type": "stream",
     "text": [
      "[ 1  2  3  4  5  6  7  8  9 10]\n",
      "[[ 1  2  3  4  5]\n",
      " [ 6  7  8  9 10]]\n",
      "[[ 6  7  8  9 10]\n",
      " [ 1  2  3  4  5]]\n",
      "[177  66  12 206  79 239  32 135 142 129]\n"
     ]
    }
   ],
   "execution_count": 7
  },
  {
   "cell_type": "markdown",
   "source": [
    "# Bai 2"
   ],
   "metadata": {
    "id": "6ddhj2_wKTgP"
   }
  },
  {
   "cell_type": "code",
   "source": [
    "arr = np.random.randint(10, 51, size = (5, 5))\n",
    "print(arr)\n",
    "print(arr.shape)\n",
    "\n",
    "res = [arr[i, j] for i in range(5) for j in range(5) if i % 2 == 1 and j % 2 == 0]\n",
    "print(res)\n",
    "\n",
    "out = np.where(arr % 2 == 1, arr, 0) # arr[arr% 2 == 0] = 0\n",
    "print(out)\n",
    "\n",
    "arr[0,:] = -1\n",
    "arr[:,0] = -1\n",
    "arr[:,-1] = -1\n",
    "arr[-1,:] = -1\n",
    "print(arr)"
   ],
   "metadata": {
    "colab": {
     "base_uri": "https://localhost:8080/"
    },
    "id": "z7mefumsKS8W",
    "outputId": "842b1cd1-235f-43e7-cece-7162c927386e",
    "ExecuteTime": {
     "end_time": "2025-02-26T07:41:29.874157Z",
     "start_time": "2025-02-26T07:41:29.864583Z"
    }
   },
   "outputs": [
    {
     "name": "stdout",
     "output_type": "stream",
     "text": [
      "[[31 28 31 18 12]\n",
      " [31 35 32 44 12]\n",
      " [25 18 49 45 48]\n",
      " [26 23 45 27 16]\n",
      " [15 48 30 18 39]]\n",
      "(5, 5)\n",
      "[np.int32(31), np.int32(32), np.int32(12), np.int32(26), np.int32(45), np.int32(16)]\n",
      "[[31  0 31  0  0]\n",
      " [31 35  0  0  0]\n",
      " [25  0 49 45  0]\n",
      " [ 0 23 45 27  0]\n",
      " [15  0  0  0 39]]\n",
      "[[-1 -1 -1 -1 -1]\n",
      " [-1 35 32 44 -1]\n",
      " [-1 18 49 45 -1]\n",
      " [-1 23 45 27 -1]\n",
      " [-1 -1 -1 -1 -1]]\n"
     ]
    }
   ],
   "execution_count": 8
  },
  {
   "cell_type": "markdown",
   "source": "# Bai 3  ",
   "metadata": {
    "id": "SewAyhBvRhFv"
   }
  },
  {
   "cell_type": "code",
   "source": [
    "arr = np.random.randint(1, 101, (3, 3))\n",
    "print(\"Mảng ban đầu:\\n\", arr)\n",
    "\n",
    "# 1. Tìm max, min và vị trí\n",
    "max_val = np.max(arr)\n",
    "min_val = np.min(arr)\n",
    "max_pos = np.unravel_index(np.argmax(arr), arr.shape)\n",
    "min_pos = np.unravel_index(np.argmin(arr), arr.shape)\n",
    "print(f\"Max: {max_val} tại {max_pos}, Min: {min_val} tại {min_pos}\")\n",
    "\n",
    "\n",
    "diag_sum = np.trace(arr)\n",
    "print(\"Tổng đường chéo chính:\", diag_sum)\n",
    "\n",
    "\n",
    "row_sums = np.sum(arr, axis=1)\n",
    "col_sums = np.sum(arr, axis=0)\n",
    "print(\"Tổng các hàng:\", row_sums)\n",
    "print(\"Tổng các cột:\", col_sums)\n",
    "\n",
    "\n",
    "rotated = np.rot90(arr)\n",
    "print(\"Mảng sau khi xoay 90 độ:\\n\", rotated)"
   ],
   "metadata": {
    "id": "Wii6cTkURjjO",
    "ExecuteTime": {
     "end_time": "2025-02-26T07:44:44.637869Z",
     "start_time": "2025-02-26T07:44:44.620529Z"
    }
   },
   "outputs": [
    {
     "name": "stdout",
     "output_type": "stream",
     "text": [
      "Mảng ban đầu:\n",
      " [[23 97 81]\n",
      " [60 84 63]\n",
      " [68 48 31]]\n",
      "Max: 97 tại (np.int64(0), np.int64(1)), Min: 23 tại (np.int64(0), np.int64(0))\n",
      "Tổng đường chéo chính: 138\n",
      "Tổng các hàng: [201 207 147]\n",
      "Tổng các cột: [151 229 175]\n",
      "Mảng sau khi xoay 90 độ:\n",
      " [[81 63 31]\n",
      " [97 84 48]\n",
      " [23 60 68]]\n"
     ]
    }
   ],
   "execution_count": 10
  },
  {
   "metadata": {},
   "cell_type": "markdown",
   "source": "# Bai 4"
  },
  {
   "metadata": {
    "ExecuteTime": {
     "end_time": "2025-02-26T07:47:58.339220Z",
     "start_time": "2025-02-26T07:47:58.325457Z"
    }
   },
   "cell_type": "code",
   "source": [
    "arr1 = np.random.randint(1, 11, (4, 4))\n",
    "arr2 = np.random.randint(1, 11, (4, 4))\n",
    "print(\"Mảng 1:\\n\", arr1)\n",
    "print(\"Mảng 2:\\n\", arr2)\n",
    "\n",
    "\n",
    "mask = arr1 > 5\n",
    "print(\"Mask:\\n\", mask)\n",
    "\n",
    "\n",
    "result = np.zeros((4, 4))\n",
    "result[mask] = arr1[mask] * arr2[mask]\n",
    "print(\"Kết quả nhân:\\n\", result)\n",
    "\n",
    "\n",
    "row_sums = np.sum(result, axis=1)\n",
    "col_sums = np.sum(result, axis=0)\n",
    "print(\"Tổng các hàng:\", row_sums)\n",
    "print(\"Tổng các cột:\", col_sums)\n",
    "\n",
    "\n",
    "row_sums[row_sums == 0] = 1  \n",
    "normalized = result / row_sums[:, np.newaxis]\n",
    "print(\"Mảng chuẩn hóa:\\n\", normalized)"
   ],
   "outputs": [
    {
     "name": "stdout",
     "output_type": "stream",
     "text": [
      "Mảng 1:\n",
      " [[ 4  5  6  5]\n",
      " [ 1  8 10  8]\n",
      " [ 5  7  5  9]\n",
      " [ 3  5  3  4]]\n",
      "Mảng 2:\n",
      " [[ 6 10  2 10]\n",
      " [ 6  3  8  2]\n",
      " [ 5  6  6  4]\n",
      " [ 8  4  2  3]]\n",
      "Mask:\n",
      " [[False False  True False]\n",
      " [False  True  True  True]\n",
      " [False  True False  True]\n",
      " [False False False False]]\n",
      "Kết quả nhân:\n",
      " [[ 0.  0. 12.  0.]\n",
      " [ 0. 24. 80. 16.]\n",
      " [ 0. 42.  0. 36.]\n",
      " [ 0.  0.  0.  0.]]\n",
      "Tổng các hàng: [ 12. 120.  78.   0.]\n",
      "Tổng các cột: [ 0. 66. 92. 52.]\n",
      "Mảng chuẩn hóa:\n",
      " [[0.         0.         1.         0.        ]\n",
      " [0.         0.2        0.66666667 0.13333333]\n",
      " [0.         0.53846154 0.         0.46153846]\n",
      " [0.         0.         0.         0.        ]]\n"
     ]
    }
   ],
   "execution_count": 11
  },
  {
   "metadata": {},
   "cell_type": "markdown",
   "source": "# Bai 5"
  },
  {
   "metadata": {
    "ExecuteTime": {
     "end_time": "2025-02-26T07:52:06.250958Z",
     "start_time": "2025-02-26T07:52:03.068315Z"
    }
   },
   "cell_type": "code",
   "source": [
    "from matplotlib import pyplot as plt\n",
    "\n",
    "arr = np.random.normal(0, 1, 1000)\n",
    "\n",
    "\n",
    "mean = np.mean(arr)\n",
    "variance = np.var(arr)\n",
    "std = np.std(arr)\n",
    "q1, q2, q3 = np.percentile(arr, [25, 50, 75])\n",
    "iqr = q3 - q1\n",
    "print(f\"Trung bình: {mean:.4f}, Phương sai: {variance:.4f}, Độ lệch chuẩn: {std:.4f}\")\n",
    "print(f\"Q1: {q1:.4f}, Q2: {q2:.4f}, Q3: {q3:.4f}, IQR: {iqr:.4f}\")\n",
    "\n",
    "\n",
    "lower_bound = q1 - 1.5 * iqr\n",
    "upper_bound = q3 + 1.5 * iqr\n",
    "outliers = arr[(arr < lower_bound) | (arr > upper_bound)]\n",
    "print(\"Số outliers:\", len(outliers))\n",
    "\n",
    "\n",
    "plt.figure(figsize=(12, 4))\n",
    "plt.subplot(121)\n",
    "plt.hist(arr, bins=30)\n",
    "plt.title(\"Histogram\")\n",
    "plt.subplot(122)\n",
    "plt.boxplot(arr)\n",
    "plt.title(\"Boxplot\")\n",
    "# plt.show()\n",
    "\n",
    "\n",
    "arr_filtered = arr[(arr >= lower_bound) & (arr <= upper_bound)]\n",
    "print(\"Số phần tử sau khi lọc:\", len(arr_filtered))\n",
    "\n",
    "\n",
    "plt.figure()\n",
    "plt.hist(arr_filtered, bins=30)\n",
    "plt.title(\"Histogram sau khi loại outliers\")\n",
    "# plt.show()\n",
    "\n",
    "\n",
    "mean_filtered = np.mean(arr_filtered)\n",
    "std_filtered = np.std(arr_filtered)\n",
    "print(f\"Trước: mean = {mean:.4f}, std = {std:.4f}\")\n",
    "print(f\"Sau: mean = {mean_filtered:.4f}, std = {std_filtered:.4f}\")"
   ],
   "outputs": [
    {
     "name": "stdout",
     "output_type": "stream",
     "text": [
      "Trung bình: -0.0233, Phương sai: 0.9618, Độ lệch chuẩn: 0.9807\n",
      "Q1: -0.6913, Q2: -0.0259, Q3: 0.6355, IQR: 1.3268\n",
      "Số outliers: 9\n",
      "Số phần tử sau khi lọc: 991\n",
      "Trước: mean = -0.0233, std = 0.9807\n",
      "Sau: mean = -0.0249, std = 0.9421\n"
     ]
    },
    {
     "data": {
      "text/plain": [
       "<Figure size 1200x400 with 2 Axes>"
      ],
      "image/png": "[encoded data removed]"
     },
     "metadata": {},
     "output_type": "display_data"
    },
    {
     "data": {
      "text/plain": [
       "<Figure size 640x480 with 1 Axes>"
      ],
      "image/png": "[encoded data removed]"
     },
     "metadata": {},
     "output_type": "display_data"
    }
   ],
   "execution_count": 12
  }
 ]
}
