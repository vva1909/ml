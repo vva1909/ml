{
 "cells": [
  {
   "cell_type": "code",
   "id": "initial_id",
   "metadata": {
    "collapsed": true,
    "ExecuteTime": {
     "end_time": "2025-03-31T14:58:13.359121Z",
     "start_time": "2025-03-31T14:58:12.456742Z"
    }
   },
   "source": [
    "import numpy as np\n",
    "import matplotlib.pyplot as plt\n",
    "import pandas as pd\n",
    "from PIL.Image import module"
   ],
   "outputs": [],
   "execution_count": 2
  },
  {
   "metadata": {
    "ExecuteTime": {
     "end_time": "2025-03-31T14:58:13.391204Z",
     "start_time": "2025-03-31T14:58:13.359121Z"
    }
   },
   "cell_type": "code",
   "source": [
    "df = pd.read_csv('data/advertising.csv')\n",
    "X = df.drop('Sales', axis=1).values\n",
    "y = df['Sales'].values\n",
    "\n",
    "X = (X - X.mean(axis=0)) / X.std(axis=0)\n",
    "\n",
    "from sklearn.model_selection import train_test_split\n",
    "\n",
    "X_train, X_test, y_train, y_test = train_test_split(X, y, test_size=0.2, random_state=42)\n",
    "\n",
    "print(X_train.shape)"
   ],
   "id": "326e49f9de4d2a52",
   "outputs": [
    {
     "name": "stdout",
     "output_type": "stream",
     "text": [
      "(160, 3)\n"
     ]
    }
   ],
   "execution_count": 3
  },
  {
   "metadata": {
    "ExecuteTime": {
     "end_time": "2025-03-31T14:58:13.839572Z",
     "start_time": "2025-03-31T14:58:13.463876Z"
    }
   },
   "cell_type": "code",
   "source": [
    "import models\n",
    "Linear = models.LinearRegression(learning_rate=0.01, epochs=1000)\n",
    "Linear.fit_shuffle(X_train, y_train)\n",
    "\n",
    "from sklearn.metrics import r2_score\n",
    "\n",
    "y_pred = Linear.predict(X_test)\n",
    "\n",
    "print(Linear.weights)\n",
    "\n",
    "plt.scatter(y_test, y_pred)\n",
    "plt.xlabel(\"Actual Values\")\n",
    "plt.ylabel(\"Predicted Values\")\n",
    "plt.title(\"Actual vs. Predicted Values\")\n",
    "plt.show()\n",
    "\n",
    "print(\"R2-Score\", r2_score(y_test, y_pred))"
   ],
   "id": "71e9d7a48bb0deb5",
   "outputs": [
    {
     "name": "stdout",
     "output_type": "stream",
     "text": [
      "[15.21069877  4.66839933  1.49465477  0.09396484]\n"
     ]
    },
    {
     "data": {
      "text/plain": [
       "<Figure size 640x480 with 1 Axes>"
      ],
      "image/png": "[encoded data removed]"
     },
     "metadata": {},
     "output_type": "display_data"
    },
    {
     "name": "stdout",
     "output_type": "stream",
     "text": [
      "R2-Score 0.9058863740076244\n"
     ]
    }
   ],
   "execution_count": 4
  },
  {
   "metadata": {
    "ExecuteTime": {
     "end_time": "2025-03-31T14:58:13.921633Z",
     "start_time": "2025-03-31T14:58:13.863461Z"
    }
   },
   "cell_type": "code",
   "source": [
    "from sklearn.model_selection import cross_val_score\n",
    "from sklearn.linear_model import LinearRegression\n",
    "from sklearn.metrics import mean_squared_error ,mean_absolute_error , r2_score\n",
    "\n",
    "model = LinearRegression ()\n",
    "scores = cross_val_score (model ,X ,y , cv=5 ,scoring='neg_mean_squared_error')\n",
    "\n",
    "rmse = np.sqrt(-scores)\n",
    "print(f'RMSE:{np.mean(rmse)}')\n",
    "\n",
    "scores = cross_val_score(model ,X ,y , cv=5 ,scoring='neg_mean_absolute_error')\n",
    "\n",
    "mae = -scores\n",
    "print(f'MAE: {np.mean(mae)}')\n",
    "\n",
    "scores = cross_val_score ( model ,X ,y , cv=5 , scoring='r2')\n",
    "r2 = scores\n",
    "print (f'R2: {np.mean(r2)}')"
   ],
   "id": "308a71fdcb43e9a2",
   "outputs": [
    {
     "name": "stdout",
     "output_type": "stream",
     "text": [
      "RMSE:1.6657702460059216\n",
      "MAE: 1.2683048324460453\n",
      "R2: 0.8953723525274103\n"
     ]
    }
   ],
   "execution_count": 5
  },
  {
   "metadata": {
    "ExecuteTime": {
     "end_time": "2025-03-31T15:17:40.940815Z",
     "start_time": "2025-03-31T15:17:40.843278Z"
    }
   },
   "cell_type": "code",
   "source": [
    "import numpy as np\n",
    "from sklearn.base import BaseEstimator, RegressorMixin\n",
    "\n",
    "class LinearRegression(BaseEstimator, RegressorMixin):\n",
    "    def __init__(self, learning_rate=0.01, epochs=1000, bias=True):\n",
    "        self.learning_rate = learning_rate\n",
    "        self.epochs = epochs\n",
    "        self.weights = None\n",
    "        self.bias = bias\n",
    "\n",
    "    def predict(self, X):\n",
    "        if X.shape[1] != self.weights.shape[0]:\n",
    "            X = np.column_stack([np.ones(X.shape[0]), X])\n",
    "\n",
    "        return X @ self.weights\n",
    "\n",
    "    def loss_function(self, y_true, y_pred):\n",
    "        n = y_true.shape[0]\n",
    "        return (1.0 / n) * (((y_true - y_pred) ** 2).sum())\n",
    "\n",
    "    def gradient(self, X, y):\n",
    "        y_pred = self.predict(X)\n",
    "        error = y - y_pred\n",
    "        grad = (-2.0 / X.shape[0]) * (X.T @ error)\n",
    "        return grad\n",
    "\n",
    "    def fit(self, X, y):\n",
    "        if self.bias:\n",
    "            X = np.column_stack([np.ones(X.shape[0]), X])\n",
    "\n",
    "        self.weights = np.zeros(X.shape[1])\n",
    "        for epoch in range(self.epochs):\n",
    "            grad = self.gradient(X, y)\n",
    "            self.weights -= self.learning_rate * grad\n",
    "\n",
    "    def score(self, X, y):\n",
    "        y_pred = self.predict(X)\n",
    "        return 1 - (((y_pred - y) ** 2).sum()) / (((y - y_test.mean()) ** 2).sum())\n",
    "\n",
    "# Ví dụ sử dụng với cross_val_score\n",
    "from sklearn.model_selection import cross_val_score\n",
    "from sklearn.datasets import make_regression\n",
    "\n",
    "# Khởi tạo mô hình\n",
    "model = LinearRegression(learning_rate=0.01, epochs=1000, bias=True)\n",
    "\n",
    "# Thực hiện K-fold Cross Validation\n",
    "scores = cross_val_score(model, X, y, cv=5, scoring='r2')\n",
    "\n",
    "# Kết quả\n",
    "print(f\"R² trung bình: {np.mean(scores):.4f}\")\n",
    "print(f\"Độ lệch chuẩn: {np.std(scores):.4f}\")\n",
    "print(f\"Các giá trị R² từng fold: {scores}\")"
   ],
   "id": "ad3a75b32a9c5a50",
   "outputs": [
    {
     "name": "stdout",
     "output_type": "stream",
     "text": [
      "R² trung bình: 0.8954\n",
      "Độ lệch chuẩn: 0.0314\n",
      "Các giá trị R² từng fold: [0.87556266 0.93177792 0.92150401 0.84554594 0.9024713 ]\n"
     ]
    }
   ],
   "execution_count": 9
  },
  {
   "metadata": {},
   "cell_type": "code",
   "outputs": [],
   "execution_count": null,
   "source": "",
   "id": "151dcafcbe356c34"
  }
 ],
 "metadata": {
  "kernelspec": {
   "display_name": "Python 3",
   "language": "python",
   "name": "python3"
  },
  "language_info": {
   "codemirror_mode": {
    "name": "ipython",
    "version": 2
   },
   "file_extension": ".py",
   "mimetype": "text/x-python",
   "name": "python",
   "nbconvert_exporter": "python",
   "pygments_lexer": "ipython2",
   "version": "2.7.6"
  }
 },
 "nbformat": 4,
 "nbformat_minor": 5
}
