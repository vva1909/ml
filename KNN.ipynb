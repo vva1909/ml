{
 "cells": [
  {
   "cell_type": "code",
   "id": "51192bcf",
   "metadata": {
    "ExecuteTime": {
     "end_time": "2025-03-23T08:25:47.093911Z",
     "start_time": "2025-03-23T08:25:45.455193Z"
    }
   },
   "source": [
    "import numpy as np\n",
    "import pandas as pd\n",
    "import matplotlib.pyplot as plt"
   ],
   "outputs": [],
   "execution_count": 1
  },
  {
   "cell_type": "code",
   "id": "dfffac5f",
   "metadata": {
    "ExecuteTime": {
     "end_time": "2025-03-23T08:25:47.117539Z",
     "start_time": "2025-03-23T08:25:47.110907Z"
    }
   },
   "source": [
    "def knn_function(X_train, y_train, X_test, k):\n",
    "    prediction = []\n",
    "    for i in range(len(X_test)):\n",
    "        distance = np.linalg.norm(X_train - X_test[i], axis=1)\n",
    "        nearest_neighbor_id = distance.argsort()[:k]\n",
    "        nearest_neighbor_value = y_train[nearest_neighbor_id]\n",
    "        prediction.append(nearest_neighbor_value.mean())   \n",
    "        \n",
    "    return np.array(prediction)"
   ],
   "outputs": [],
   "execution_count": 2
  },
  {
   "cell_type": "code",
   "id": "73674874",
   "metadata": {
    "ExecuteTime": {
     "end_time": "2025-03-23T08:25:47.153891Z",
     "start_time": "2025-03-23T08:25:47.126540Z"
    }
   },
   "source": "df = pd.read_csv('data/50_Startups.csv')\n",
   "outputs": [],
   "execution_count": 3
  },
  {
   "cell_type": "code",
   "id": "8c71236d",
   "metadata": {
    "ExecuteTime": {
     "end_time": "2025-03-23T08:25:47.566063Z",
     "start_time": "2025-03-23T08:25:47.555415Z"
    }
   },
   "source": [
    "def my_train_test_split(X, y, test_size=0.2, random_state=None):\n",
    "    X = np.array(X)\n",
    "    y = np.array(y)\n",
    "    \n",
    "    if X.shape[0] != y.shape[0]:\n",
    "        raise ValueError(\"X va Y khong cung chieu du lieu\")\n",
    "        \n",
    "    n_samples = X.shape[0]\n",
    "    \n",
    "    n_train = int(n_samples - (n_samples * test_size))\n",
    "    \n",
    "    if random_state is not None:\n",
    "        np.random.seed(random_state)\n",
    "    \n",
    "    indices = np.arange(n_samples)\n",
    "    np.random.shuffle(indices)\n",
    "    \n",
    "    train_indices = indices[:n_train]\n",
    "    test_indices = indices[n_train:]\n",
    "    \n",
    "    X_train = X[train_indices]\n",
    "    y_train = y[train_indices]\n",
    "    X_test = X[test_indices]\n",
    "    y_test = y[test_indices]\n",
    "    \n",
    "    return X_train, X_test, y_train, y_test"
   ],
   "outputs": [],
   "execution_count": 4
  },
  {
   "cell_type": "code",
   "id": "d412bb35",
   "metadata": {
    "ExecuteTime": {
     "end_time": "2025-03-23T08:25:47.615189Z",
     "start_time": "2025-03-23T08:25:47.596053Z"
    }
   },
   "source": [
    "print(df.isna().sum())"
   ],
   "outputs": [
    {
     "name": "stdout",
     "output_type": "stream",
     "text": [
      "R&D Spend          0\n",
      "Administration     0\n",
      "Marketing Spend    0\n",
      "State              0\n",
      "Profit             0\n",
      "dtype: int64\n"
     ]
    }
   ],
   "execution_count": 5
  },
  {
   "cell_type": "code",
   "id": "247f1341",
   "metadata": {
    "ExecuteTime": {
     "end_time": "2025-03-23T08:25:47.666271Z",
     "start_time": "2025-03-23T08:25:47.643818Z"
    }
   },
   "source": [
    "df_linear = df.drop(['State'], axis=1)\n",
    "\n",
    "columns = df_linear.columns\n",
    "print(columns)\n",
    "\n",
    "for column in columns:\n",
    "    df.loc[df_linear[column] == 0, column] = df_linear[column].sum() / df.shape[0]\n",
    "    \n",
    "X = df_linear.drop(['Profit'], axis=1)\n",
    "y = df_linear['Profit']\n",
    "\n",
    "print(X.info)\n",
    "print(y.info)"
   ],
   "outputs": [
    {
     "name": "stdout",
     "output_type": "stream",
     "text": [
      "Index(['R&D Spend', 'Administration', 'Marketing Spend', 'Profit'], dtype='object')\n",
      "<bound method DataFrame.info of     R&D Spend  Administration  Marketing Spend\n",
      "0   165349.20       136897.80        471784.10\n",
      "1   162597.70       151377.59        443898.53\n",
      "2   153441.51       101145.55        407934.54\n",
      "3   144372.41       118671.85        383199.62\n",
      "4   142107.34        91391.77        366168.42\n",
      "5   131876.90        99814.71        362861.36\n",
      "6   134615.46       147198.87        127716.82\n",
      "7   130298.13       145530.06        323876.68\n",
      "8   120542.52       148718.95        311613.29\n",
      "9   123334.88       108679.17        304981.62\n",
      "10  101913.08       110594.11        229160.95\n",
      "11  100671.96        91790.61        249744.55\n",
      "12   93863.75       127320.38        249839.44\n",
      "13   91992.39       135495.07        252664.93\n",
      "14  119943.24       156547.42        256512.92\n",
      "15  114523.61       122616.84        261776.23\n",
      "16   78013.11       121597.55        264346.06\n",
      "17   94657.16       145077.58        282574.31\n",
      "18   91749.16       114175.79        294919.57\n",
      "19   86419.70       153514.11             0.00\n",
      "20   76253.86       113867.30        298664.47\n",
      "21   78389.47       153773.43        299737.29\n",
      "22   73994.56       122782.75        303319.26\n",
      "23   67532.53       105751.03        304768.73\n",
      "24   77044.01        99281.34        140574.81\n",
      "25   64664.71       139553.16        137962.62\n",
      "26   75328.87       144135.98        134050.07\n",
      "27   72107.60       127864.55        353183.81\n",
      "28   66051.52       182645.56        118148.20\n",
      "29   65605.48       153032.06        107138.38\n",
      "30   61994.48       115641.28         91131.24\n",
      "31   61136.38       152701.92         88218.23\n",
      "32   63408.86       129219.61         46085.25\n",
      "33   55493.95       103057.49        214634.81\n",
      "34   46426.07       157693.92        210797.67\n",
      "35   46014.02        85047.44        205517.64\n",
      "36   28663.76       127056.21        201126.82\n",
      "37   44069.95        51283.14        197029.42\n",
      "38   20229.59        65947.93        185265.10\n",
      "39   38558.51        82982.09        174999.30\n",
      "40   28754.33       118546.05        172795.67\n",
      "41   27892.92        84710.77        164470.71\n",
      "42   23640.93        96189.63        148001.11\n",
      "43   15505.73       127382.30         35534.17\n",
      "44   22177.74       154806.14         28334.72\n",
      "45    1000.23       124153.04          1903.93\n",
      "46    1315.46       115816.21        297114.46\n",
      "47       0.00       135426.92             0.00\n",
      "48     542.05        51743.15             0.00\n",
      "49       0.00       116983.80         45173.06>\n",
      "<bound method Series.info of 0     192261.83\n",
      "1     191792.06\n",
      "2     191050.39\n",
      "3     182901.99\n",
      "4     166187.94\n",
      "5     156991.12\n",
      "6     156122.51\n",
      "7     155752.60\n",
      "8     152211.77\n",
      "9     149759.96\n",
      "10    146121.95\n",
      "11    144259.40\n",
      "12    141585.52\n",
      "13    134307.35\n",
      "14    132602.65\n",
      "15    129917.04\n",
      "16    126992.93\n",
      "17    125370.37\n",
      "18    124266.90\n",
      "19    122776.86\n",
      "20    118474.03\n",
      "21    111313.02\n",
      "22    110352.25\n",
      "23    108733.99\n",
      "24    108552.04\n",
      "25    107404.34\n",
      "26    105733.54\n",
      "27    105008.31\n",
      "28    103282.38\n",
      "29    101004.64\n",
      "30     99937.59\n",
      "31     97483.56\n",
      "32     97427.84\n",
      "33     96778.92\n",
      "34     96712.80\n",
      "35     96479.51\n",
      "36     90708.19\n",
      "37     89949.14\n",
      "38     81229.06\n",
      "39     81005.76\n",
      "40     78239.91\n",
      "41     77798.83\n",
      "42     71498.49\n",
      "43     69758.98\n",
      "44     65200.33\n",
      "45     64926.08\n",
      "46     49490.75\n",
      "47     42559.73\n",
      "48     35673.41\n",
      "49     14681.40\n",
      "Name: Profit, dtype: float64>\n"
     ]
    }
   ],
   "execution_count": 6
  },
  {
   "cell_type": "code",
   "id": "a4624034",
   "metadata": {
    "ExecuteTime": {
     "end_time": "2025-03-23T08:25:47.721952Z",
     "start_time": "2025-03-23T08:25:47.710446Z"
    }
   },
   "source": [
    "X_train, X_test, y_train, y_test = my_train_test_split(X, y, 0.2, 42)\n",
    "\n",
    "y_pred = knn_function(X_train, y_train, X_test, 5)\n",
    "\n",
    "print (y_pred.T)\n",
    "print (y_test.T)\n",
    "print (f'RMSE ( Sklearn ): {np.sqrt(np.mean((y_test - y_pred ) ** 2))}')"
   ],
   "outputs": [
    {
     "name": "stdout",
     "output_type": "stream",
     "text": [
      "[135412.448 115483.724 128154.858  67974.592 124434.054 139129.248\n",
      "  90600.176 131634.642 102312.734  84694.63 ]\n",
      "[146121.95 110352.25 124266.9   14681.4  118474.03 155752.6   71498.49\n",
      " 132602.65 103282.38  81229.06]\n",
      "RMSE ( Sklearn ): 19201.368554289733\n"
     ]
    }
   ],
   "execution_count": 7
  },
  {
   "cell_type": "code",
   "id": "d130ac59",
   "metadata": {
    "ExecuteTime": {
     "end_time": "2025-03-23T08:25:49.904199Z",
     "start_time": "2025-03-23T08:25:47.761009Z"
    }
   },
   "source": [
    "import numpy as np\n",
    "from sklearn . neighbors import KNeighborsRegressor\n",
    "\n",
    "# Scikit - learn model\n",
    "sk_model = KNeighborsRegressor (n_neighbors =5)\n",
    "sk_model.fit (X_train , y_train )\n",
    "sk_y_pred = sk_model.predict (X_test)\n",
    "\n",
    "print (f'RMSE ( Sklearn ): {np.sqrt(np.mean((y_test - sk_y_pred ) ** 2))}')"
   ],
   "outputs": [
    {
     "name": "stdout",
     "output_type": "stream",
     "text": [
      "RMSE ( Sklearn ): 19201.368554289733\n"
     ]
    }
   ],
   "execution_count": 8
  },
  {
   "cell_type": "code",
   "id": "74ba615a",
   "metadata": {
    "ExecuteTime": {
     "end_time": "2025-03-23T08:25:49.963441Z",
     "start_time": "2025-03-23T08:25:49.952982Z"
    }
   },
   "source": [
    "def knn_class_function(X_train, y_train, X_test, k):\n",
    "    prediction = []\n",
    "    for i in range(len(X_test)):\n",
    "        distance = np.linalg.norm(X_train - X_test[i], axis=1)\n",
    "        nearest_neighbor_id = distance.argsort()[:k]\n",
    "        nearest_neighbor_value = y_train[nearest_neighbor_id]\n",
    "        \n",
    "        counter = {}\n",
    "        for neighbor in nearest_neighbor_value:\n",
    "            counter[neighbor] = counter.get(neighbor, 0) + 1\n",
    "        \n",
    "        print(nearest_neighbor_value)\n",
    "        prediction.append(max(counter, key=counter.get))   \n",
    "        \n",
    "    return np.array(prediction)"
   ],
   "outputs": [],
   "execution_count": 9
  },
  {
   "cell_type": "code",
   "id": "cc30faeb",
   "metadata": {
    "ExecuteTime": {
     "end_time": "2025-03-23T08:25:50.059121Z",
     "start_time": "2025-03-23T08:25:50.046100Z"
    }
   },
   "source": [
    "df['State'] = df['State'].replace({'Florida': 2, 'New York': 1, 'California': 0})\n",
    "\n",
    "X = df.drop(['State'], axis=1)\n",
    "y = df['State']\n",
    "\n",
    "X_train, X_test, y_train, y_test = my_train_test_split(X, y, 0.2, 42)\n",
    "\n",
    "y_pred = knn_class_function(X_train, y_train, X_test, 3)\n",
    "\n",
    "print (y_pred.T)\n",
    "print (y_test.T)"
   ],
   "outputs": [
    {
     "name": "stdout",
     "output_type": "stream",
     "text": [
      "[0 2 0]\n",
      "[2 1 1]\n",
      "[2 1 0]\n",
      "[1 0 0]\n",
      "[2 0 1]\n",
      "[1 0 1]\n",
      "[2 0 0]\n",
      "[1 0 1]\n",
      "[1 2 1]\n",
      "[0 2 0]\n",
      "[0 1 2 0 2 1 0 1 1 0]\n",
      "[2 2 2 0 0 2 0 2 2 1]\n"
     ]
    },
    {
     "name": "stderr",
     "output_type": "stream",
     "text": [
      "C:\\Users\\manhv\\AppData\\Local\\Temp\\ipykernel_13812\\3563697442.py:1: FutureWarning: Downcasting behavior in `replace` is deprecated and will be removed in a future version. To retain the old behavior, explicitly call `result.infer_objects(copy=False)`. To opt-in to the future behavior, set `pd.set_option('future.no_silent_downcasting', True)`\n",
      "  df['State'] = df['State'].replace({'Florida': 2, 'New York': 1, 'California': 0})\n"
     ]
    }
   ],
   "execution_count": 10
  },
  {
   "cell_type": "code",
   "id": "4e30a281",
   "metadata": {
    "ExecuteTime": {
     "end_time": "2025-03-23T08:25:50.257728Z",
     "start_time": "2025-03-23T08:25:50.237074Z"
    }
   },
   "source": [
    "df = pd.read_csv('data/Iris.csv')\n",
    "\n",
    "df['Species'] = df['Species'].replace({'Iris-setosa' : 0, \n",
    "                                       'Iris-versicolor' : 1, \n",
    "                                       'Iris-virginica' : 2})\n",
    "\n",
    "X = df.drop(['Species'], axis=1)\n",
    "y = df['Species']\n",
    "\n",
    "X_train, X_test, y_train, y_test = my_train_test_split(X, y, 0.2, 42)\n",
    "\n",
    "y_pred = knn_class_function(X_train, y_train, X_test, 5)\n",
    "\n",
    "print (y_pred.T)\n",
    "print (y_test.T)"
   ],
   "outputs": [
    {
     "name": "stdout",
     "output_type": "stream",
     "text": [
      "[1 1 1 1 1]\n",
      "[0 0 0 0 0]\n",
      "[1 1 1 1 1]\n",
      "[1 1 1 1 1]\n",
      "[0 0 0 0 0]\n",
      "[1 1 1 1 1]\n",
      "[2 2 2 2 2]\n",
      "[2 2 2 2 2]\n",
      "[0 0 0 0 0]\n",
      "[1 1 1 1 1]\n",
      "[2 2 2 2 2]\n",
      "[2 2 2 2 2]\n",
      "[0 0 0 0 0]\n",
      "[2 2 2 2 2]\n",
      "[0 0 0 0 0]\n",
      "[1 1 1 1 1]\n",
      "[2 2 2 2 2]\n",
      "[2 2 2 2 2]\n",
      "[1 1 2 2 1]\n",
      "[2 2 2 2 2]\n",
      "[1 1 1 1 1]\n",
      "[1 1 1 1 1]\n",
      "[2 2 2 2 2]\n",
      "[2 2 2 2 2]\n",
      "[0 0 0 0 0]\n",
      "[1 1 1 1 1]\n",
      "[2 2 2 2 2]\n",
      "[0 0 0 0 0]\n",
      "[1 1 1 1 1]\n",
      "[2 2 2 2 1]\n",
      "[1 0 1 1 0 1 2 2 0 1 2 2 0 2 0 1 2 2 1 2 1 1 2 2 0 1 2 0 1 2]\n",
      "[1 0 1 1 0 1 2 2 0 1 2 2 0 2 0 1 2 2 1 2 1 1 2 2 0 1 2 0 1 2]\n"
     ]
    },
    {
     "name": "stderr",
     "output_type": "stream",
     "text": [
      "C:\\Users\\manhv\\AppData\\Local\\Temp\\ipykernel_13812\\240261974.py:3: FutureWarning: Downcasting behavior in `replace` is deprecated and will be removed in a future version. To retain the old behavior, explicitly call `result.infer_objects(copy=False)`. To opt-in to the future behavior, set `pd.set_option('future.no_silent_downcasting', True)`\n",
      "  df['Species'] = df['Species'].replace({'Iris-setosa' : 0,\n"
     ]
    }
   ],
   "execution_count": 11
  },
  {
   "cell_type": "code",
   "id": "5ad8ed92",
   "metadata": {
    "ExecuteTime": {
     "end_time": "2025-03-23T08:25:50.389022Z",
     "start_time": "2025-03-23T08:25:50.385211Z"
    }
   },
   "source": [],
   "outputs": [],
   "execution_count": null
  },
  {
   "cell_type": "code",
   "id": "761bdbab",
   "metadata": {
    "ExecuteTime": {
     "end_time": "2025-03-23T08:25:50.471395Z",
     "start_time": "2025-03-23T08:25:50.466144Z"
    }
   },
   "source": [],
   "outputs": [],
   "execution_count": null
  }
 ],
 "metadata": {
  "kernelspec": {
   "display_name": "Python 3 (ipykernel)",
   "language": "python",
   "name": "python3"
  },
  "language_info": {
   "codemirror_mode": {
    "name": "ipython",
    "version": 3
   },
   "file_extension": ".py",
   "mimetype": "text/x-python",
   "name": "python",
   "nbconvert_exporter": "python",
   "pygments_lexer": "ipython3",
   "version": "3.11.4"
  }
 },
 "nbformat": 4,
 "nbformat_minor": 5
}
