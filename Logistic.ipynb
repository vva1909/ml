{
 "cells": [
  {
   "cell_type": "code",
   "id": "initial_id",
   "metadata": {
    "collapsed": true,
    "ExecuteTime": {
     "end_time": "2025-03-11T15:33:29.919603Z",
     "start_time": "2025-03-11T15:33:29.656187Z"
    }
   },
   "source": [
    "import numpy as np\n",
    "import models\n",
    "\n",
    "np.random.seed(2)\n",
    "X = np.array([[0.50, 0.75, 1.00, 1.25, 1.50, 1.75, 1.75, 2.00, 2.25, 2.50,\n",
    "2.75, 3.00, 3.25, 3.50, 4.00, 4.25, 4.50, 4.75, 5.00, 5.50]]).T\n",
    "y = np.array([0, 0, 0, 0, 0, 0, 1, 0, 1, 0, 1, 0, 1, 0, 1, 1, 1, 1, 1, 1])\n",
    "\n",
    "Logistic = models.LogisticRegression(epochs=10000, learning_rate=0.05, bias = 1, lambda_=0.0001)\n",
    "Logistic.fit(X, y)\n",
    "w = Logistic.weights\n",
    "\n",
    "print(w.shape)\n",
    "print('Solution of Logistic Regression:', w)\n",
    "print('Final loss:', Logistic.loss(X, y, False))"
   ],
   "outputs": [
    {
     "name": "stdout",
     "output_type": "stream",
     "text": [
      "(2,)\n",
      "Solution of Logistic Regression: [-4.04848198  1.49474168]\n",
      "Final loss: 0.40154741323115917\n"
     ]
    }
   ],
   "execution_count": 4
  },
  {
   "metadata": {},
   "cell_type": "code",
   "outputs": [],
   "execution_count": null,
   "source": "",
   "id": "d4483beb8d6b7ff7"
  }
 ],
 "metadata": {
  "kernelspec": {
   "display_name": "Python 3",
   "language": "python",
   "name": "python3"
  },
  "language_info": {
   "codemirror_mode": {
    "name": "ipython",
    "version": 2
   },
   "file_extension": ".py",
   "mimetype": "text/x-python",
   "name": "python",
   "nbconvert_exporter": "python",
   "pygments_lexer": "ipython2",
   "version": "2.7.6"
  }
 },
 "nbformat": 4,
 "nbformat_minor": 5
}
