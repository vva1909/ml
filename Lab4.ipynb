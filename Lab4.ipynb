{
 "cells": [
  {
   "cell_type": "code",
   "id": "initial_id",
   "metadata": {
    "collapsed": true,
    "ExecuteTime": {
     "end_time": "2025-03-10T15:49:05.164456Z",
     "start_time": "2025-03-10T15:49:05.158415Z"
    }
   },
   "source": [
    "from statistics import LinearRegression\n",
    "\n",
    "import models \n",
    "import pandas as pd\n",
    "import numpy as np\n",
    "import matplotlib.pyplot as plt\n",
    "from IPython.core.completerlib import module_list"
   ],
   "outputs": [],
   "execution_count": 48
  },
  {
   "metadata": {
    "ExecuteTime": {
     "end_time": "2025-03-10T15:49:05.202304Z",
     "start_time": "2025-03-10T15:49:05.169582Z"
    }
   },
   "cell_type": "code",
   "source": [
    "df = pd.read_csv('data/abalone.csv')\n",
    "\n",
    "print(df.head())"
   ],
   "id": "7256cb3a85c62249",
   "outputs": [
    {
     "name": "stdout",
     "output_type": "stream",
     "text": [
      "  Sex  Length  Diameter  Height  Whole weight  Shucked weight  Viscera weight  \\\n",
      "0   M   0.455     0.365   0.095        0.5140          0.2245          0.1010   \n",
      "1   M   0.350     0.265   0.090        0.2255          0.0995          0.0485   \n",
      "2   F   0.530     0.420   0.135        0.6770          0.2565          0.1415   \n",
      "3   M   0.440     0.365   0.125        0.5160          0.2155          0.1140   \n",
      "4   I   0.330     0.255   0.080        0.2050          0.0895          0.0395   \n",
      "\n",
      "   Shell weight  Rings  \n",
      "0         0.150     15  \n",
      "1         0.070      7  \n",
      "2         0.210      9  \n",
      "3         0.155     10  \n",
      "4         0.055      7  \n"
     ]
    }
   ],
   "execution_count": 49
  },
  {
   "metadata": {
    "ExecuteTime": {
     "end_time": "2025-03-10T15:49:05.310038Z",
     "start_time": "2025-03-10T15:49:05.276046Z"
    }
   },
   "cell_type": "code",
   "source": [
    "\n",
    "df.loc[(df['Rings'] < 10) & (df['Sex'].isna()), 'Sex'] = 'I'\n",
    "df = pd.concat([df.drop('Sex', axis=1), pd.get_dummies(df['Sex'], drop_first=False).astype(int)], axis=1)\n",
    "df = df[df.columns].fillna(df[df.columns].mean())\n",
    "\n",
    "print(df)\n"
   ],
   "id": "d21106ff1083d784",
   "outputs": [
    {
     "name": "stdout",
     "output_type": "stream",
     "text": [
      "      Length  Diameter  Height  Whole weight  Shucked weight  Viscera weight  \\\n",
      "0      0.455     0.365   0.095        0.5140          0.2245          0.1010   \n",
      "1      0.350     0.265   0.090        0.2255          0.0995          0.0485   \n",
      "2      0.530     0.420   0.135        0.6770          0.2565          0.1415   \n",
      "3      0.440     0.365   0.125        0.5160          0.2155          0.1140   \n",
      "4      0.330     0.255   0.080        0.2050          0.0895          0.0395   \n",
      "...      ...       ...     ...           ...             ...             ...   \n",
      "4172   0.565     0.450   0.165        0.8870          0.3700          0.2390   \n",
      "4173   0.590     0.440   0.135        0.9660          0.4390          0.2145   \n",
      "4174   0.600     0.475   0.205        1.1760          0.5255          0.2875   \n",
      "4175   0.625     0.485   0.150        1.0945          0.5310          0.2610   \n",
      "4176   0.710     0.555   0.195        1.9485          0.9455          0.3765   \n",
      "\n",
      "      Shell weight  Rings  F  I  M  \n",
      "0           0.1500     15  0  0  1  \n",
      "1           0.0700      7  0  0  1  \n",
      "2           0.2100      9  1  0  0  \n",
      "3           0.1550     10  0  0  1  \n",
      "4           0.0550      7  0  1  0  \n",
      "...            ...    ... .. .. ..  \n",
      "4172        0.2490     11  1  0  0  \n",
      "4173        0.2605     10  0  0  1  \n",
      "4174        0.3080      9  0  0  1  \n",
      "4175        0.2960     10  1  0  0  \n",
      "4176        0.4950     12  0  0  1  \n",
      "\n",
      "[4177 rows x 11 columns]\n"
     ]
    }
   ],
   "execution_count": 50
  },
  {
   "metadata": {
    "ExecuteTime": {
     "end_time": "2025-03-10T15:49:05.439555Z",
     "start_time": "2025-03-10T15:49:05.416939Z"
    }
   },
   "cell_type": "code",
   "source": [
    "X = df.drop('Rings', axis=1).values\n",
    "y = df['Rings']\n",
    "print(y.shape)\n",
    "X_train, X_test, y_train, y_test = models.my_train_test_split(X, y, 0.2, 42)"
   ],
   "id": "5cd925736fd25a01",
   "outputs": [
    {
     "name": "stdout",
     "output_type": "stream",
     "text": [
      "(4177,)\n"
     ]
    }
   ],
   "execution_count": 51
  },
  {
   "metadata": {
    "ExecuteTime": {
     "end_time": "2025-03-10T15:49:05.666650Z",
     "start_time": "2025-03-10T15:49:05.657993Z"
    }
   },
   "cell_type": "code",
   "source": [
    "print(X_train.shape)\n",
    "print(y_train.shape)"
   ],
   "id": "4de29fe6eaca7fa0",
   "outputs": [
    {
     "name": "stdout",
     "output_type": "stream",
     "text": [
      "(3341, 10)\n",
      "(3341,)\n"
     ]
    }
   ],
   "execution_count": 52
  },
  {
   "metadata": {
    "ExecuteTime": {
     "end_time": "2025-03-10T15:49:38.649364Z",
     "start_time": "2025-03-10T15:49:05.790528Z"
    }
   },
   "cell_type": "code",
   "source": [
    "from sklearn.metrics import mean_squared_error, mean_absolute_error, r2_score  \n",
    "\n",
    "Linear = models.LinearRegression(learning_rate=0.01, epochs=100000, bias=True)\n",
    "Linear.fit(X_train, y_train)\n",
    "y_pred = Linear.predict(X_test)\n",
    "print(Linear.weights)\n",
    "r2 = r2_score(y_test, y_pred)           \n",
    "print(f\"R2 Linear: {r2}\")\n",
    "\n",
    "Lasso = models.LassoRegression(learning_rate=0.01, epochs=100000, bias=True, lambda_=0.1)\n",
    "Lasso.fit(X_train, y_train)\n",
    "y_pred = Lasso.predict(X_test)\n",
    "print(Lasso.weights)\n",
    "r2 = r2_score(y_test, y_pred)           \n",
    "print(f\"R2 Lasso: {r2}\")\n",
    "\n",
    "Ridge = models.RidgeRegression(learning_rate=0.01, epochs=100000, bias=True, lambda_=0.1)\n",
    "Ridge.fit(X_train, y_train)\n",
    "y_pred = Ridge.predict(X_test)\n",
    "print(Ridge.weights)\n",
    "r2 = r2_score(y_test, y_pred)           \n",
    "print(f\"R2 Ridge: {r2}\")\n",
    "\n"
   ],
   "id": "f3c7a18e10ce5784",
   "outputs": [
    {
     "name": "stdout",
     "output_type": "stream",
     "text": [
      "[  4.6649166    3.02900201   6.48392671   8.31328489   2.78606419\n",
      " -12.10641463  -3.49842017  14.41284494  -0.60327229  -1.58012425\n",
      "  -0.52209205]\n",
      "R2 Linear: 0.48030370852245097\n",
      "[ 7.46414061e+00  5.49695565e-04  7.41621914e-05  1.30377532e-04\n",
      "  1.41034615e+00 -1.29497825e-04 -4.88032099e-04  6.55279021e+00\n",
      "  7.03709582e-02 -9.59071853e-01 -1.46385229e-04]\n",
      "R2 Lasso: 0.31861459676858084\n",
      "[4.03812009 2.0351445  1.63751623 0.62546131 2.38542831 0.3740342\n",
      " 0.45205176 1.19519584 1.49202881 0.7632562  1.46016575]\n",
      "R2 Ridge: 0.23915832600271147\n"
     ]
    }
   ],
   "execution_count": 53
  },
  {
   "metadata": {
    "ExecuteTime": {
     "end_time": "2025-03-10T15:49:38.702659Z",
     "start_time": "2025-03-10T15:49:38.697824Z"
    }
   },
   "cell_type": "code",
   "source": "",
   "id": "a52ec28053f4ff9b",
   "outputs": [],
   "execution_count": null
  },
  {
   "metadata": {
    "ExecuteTime": {
     "end_time": "2025-03-10T15:49:38.755470Z",
     "start_time": "2025-03-10T15:49:38.747436Z"
    }
   },
   "cell_type": "code",
   "source": "",
   "id": "beae17076400ab6b",
   "outputs": [],
   "execution_count": null
  }
 ],
 "metadata": {
  "kernelspec": {
   "display_name": "Python 3",
   "language": "python",
   "name": "python3"
  },
  "language_info": {
   "codemirror_mode": {
    "name": "ipython",
    "version": 2
   },
   "file_extension": ".py",
   "mimetype": "text/x-python",
   "name": "python",
   "nbconvert_exporter": "python",
   "pygments_lexer": "ipython2",
   "version": "2.7.6"
  }
 },
 "nbformat": 4,
 "nbformat_minor": 5
}
