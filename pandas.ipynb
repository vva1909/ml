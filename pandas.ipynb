{
 "cells": [
  {
   "cell_type": "code",
   "id": "initial_id",
   "metadata": {
    "collapsed": true,
    "ExecuteTime": {
     "end_time": "2025-02-26T08:07:33.188149Z",
     "start_time": "2025-02-26T08:07:32.157098Z"
    }
   },
   "source": [
    "import pandas as pd\n",
    "from matplotlib import pyplot as plt\n"
   ],
   "outputs": [],
   "execution_count": 6
  },
  {
   "metadata": {},
   "cell_type": "markdown",
   "source": "# Bai 1",
   "id": "557fae43b34a6f81"
  },
  {
   "metadata": {
    "ExecuteTime": {
     "end_time": "2025-02-26T08:04:51.853318Z",
     "start_time": "2025-02-26T08:04:51.815838Z"
    }
   },
   "cell_type": "code",
   "source": [
    "df = pd.read_csv(\"titanic/train.csv\")\n",
    "print(df.head())\n",
    "print(df.shape)\n",
    "print(df.info())\n",
    "print(df.isna().sum())\n",
    "print(df.isnull().sum())\n"
   ],
   "id": "ad2d6d3cab746a5d",
   "outputs": [
    {
     "name": "stdout",
     "output_type": "stream",
     "text": [
      "   PassengerId  Survived  Pclass  \\\n",
      "0            1         0       3   \n",
      "1            2         1       1   \n",
      "2            3         1       3   \n",
      "3            4         1       1   \n",
      "4            5         0       3   \n",
      "\n",
      "                                                Name     Sex   Age  SibSp  \\\n",
      "0                            Braund, Mr. Owen Harris    male  22.0      1   \n",
      "1  Cumings, Mrs. John Bradley (Florence Briggs Th...  female  38.0      1   \n",
      "2                             Heikkinen, Miss. Laina  female  26.0      0   \n",
      "3       Futrelle, Mrs. Jacques Heath (Lily May Peel)  female  35.0      1   \n",
      "4                           Allen, Mr. William Henry    male  35.0      0   \n",
      "\n",
      "   Parch            Ticket     Fare Cabin Embarked  \n",
      "0      0         A/5 21171   7.2500   NaN        S  \n",
      "1      0          PC 17599  71.2833   C85        C  \n",
      "2      0  STON/O2. 3101282   7.9250   NaN        S  \n",
      "3      0            113803  53.1000  C123        S  \n",
      "4      0            373450   8.0500   NaN        S  \n",
      "(891, 12)\n",
      "<class 'pandas.core.frame.DataFrame'>\n",
      "RangeIndex: 891 entries, 0 to 890\n",
      "Data columns (total 12 columns):\n",
      " #   Column       Non-Null Count  Dtype  \n",
      "---  ------       --------------  -----  \n",
      " 0   PassengerId  891 non-null    int64  \n",
      " 1   Survived     891 non-null    int64  \n",
      " 2   Pclass       891 non-null    int64  \n",
      " 3   Name         891 non-null    object \n",
      " 4   Sex          891 non-null    object \n",
      " 5   Age          714 non-null    float64\n",
      " 6   SibSp        891 non-null    int64  \n",
      " 7   Parch        891 non-null    int64  \n",
      " 8   Ticket       891 non-null    object \n",
      " 9   Fare         891 non-null    float64\n",
      " 10  Cabin        204 non-null    object \n",
      " 11  Embarked     889 non-null    object \n",
      "dtypes: float64(2), int64(5), object(5)\n",
      "memory usage: 83.7+ KB\n",
      "None\n",
      "PassengerId      0\n",
      "Survived         0\n",
      "Pclass           0\n",
      "Name             0\n",
      "Sex              0\n",
      "Age            177\n",
      "SibSp            0\n",
      "Parch            0\n",
      "Ticket           0\n",
      "Fare             0\n",
      "Cabin          687\n",
      "Embarked         2\n",
      "dtype: int64\n",
      "PassengerId      0\n",
      "Survived         0\n",
      "Pclass           0\n",
      "Name             0\n",
      "Sex              0\n",
      "Age            177\n",
      "SibSp            0\n",
      "Parch            0\n",
      "Ticket           0\n",
      "Fare             0\n",
      "Cabin          687\n",
      "Embarked         2\n",
      "dtype: int64\n"
     ]
    }
   ],
   "execution_count": 4
  },
  {
   "metadata": {},
   "cell_type": "markdown",
   "source": "# Bai 2",
   "id": "1f0df3bf9328ab5c"
  },
  {
   "metadata": {
    "ExecuteTime": {
     "end_time": "2025-02-26T08:13:51.469645Z",
     "start_time": "2025-02-26T08:13:51.137428Z"
    }
   },
   "cell_type": "code",
   "source": [
    "sex_counts = df['Sex'].value_counts()\n",
    "print(\"Số lượng hành khách theo giới tính:\")\n",
    "print(sex_counts)\n",
    "\n",
    "plt.figure(figsize=(8, 5))\n",
    "sex_counts.plot(kind='bar', color=['blue', 'pink'])\n",
    "plt.title('Số lượng hành khách theo giới tính')\n",
    "plt.xlabel('Giới tính')\n",
    "plt.ylabel('Số lượng')\n",
    "plt.xticks(rotation=0)\n",
    "plt.show()\n",
    "\n",
    "\n",
    "pclass_counts = df['Pclass'].value_counts().sort_index()\n",
    "print(\"\\nSố lượng hành khách theo hạng vé:\")\n",
    "print(pclass_counts)\n",
    "\n",
    "plt.figure(figsize=(8, 8))\n",
    "plt.pie(pclass_counts, labels=['Hạng 1', 'Hạng 2', 'Hạng 3'], autopct='%1.1f%%', startangle=90)\n",
    "plt.title('Tỷ lệ hạng vé trên tàu')\n",
    "plt.axis('equal')\n",
    "plt.show()\n",
    "\n",
    "southampton_first_class = df[(df['Pclass'] == 1) & (df['Embarked'] == 'S')].shape[0]\n",
    "print(f\"Số lượng hành khách mua vé hạng nhất tại Southampton: {southampton_first_class}\")\n",
    "\n",
    "\n",
    "mean_age_all = df['Age'].mean()\n",
    "mean_age_survived = df[df['Survived'] == 1]['Age'].mean()\n",
    "print(f\"\\nTuổi trung bình của tất cả hành khách: {mean_age_all:.2f}\")\n",
    "print(f\"Tuổi trung bình của những người sống sót: {mean_age_survived:.2f}\")\n",
    "\n",
    "\n",
    "survival_by_sex = df.groupby('Sex')['Survived'].mean()\n",
    "print(\"\\nTỷ lệ sống sót theo giới tính:\")\n",
    "print(survival_by_sex)\n",
    "\n",
    "# Số lượng nữ sống sót có tuổi lớn hơn tuổi trung bình của tất cả hành khách\n",
    "female_survived_above_mean = df[(df['Sex'] == 'female') & \n",
    "                               (df['Survived'] == 1) & \n",
    "                               (df['Age'] > mean_age_all)].shape[0]\n",
    "print(f\"Số lượng nữ sống sót có tuổi lớn hơn tuổi trung bình: {female_survived_above_mean}\")\n"
   ],
   "id": "f4b4651d228cfc16",
   "outputs": [
    {
     "name": "stdout",
     "output_type": "stream",
     "text": [
      "Số lượng hành khách theo giới tính:\n",
      "Sex\n",
      "male      577\n",
      "female    314\n",
      "Name: count, dtype: int64\n"
     ]
    },
    {
     "data": {
      "text/plain": [
       "<Figure size 800x500 with 1 Axes>"
      ],
      "image/png": "[encoded data removed]"
     },
     "metadata": {},
     "output_type": "display_data"
    },
    {
     "name": "stdout",
     "output_type": "stream",
     "text": [
      "\n",
      "Số lượng hành khách theo hạng vé:\n",
      "Pclass\n",
      "1    216\n",
      "2    184\n",
      "3    491\n",
      "Name: count, dtype: int64\n"
     ]
    },
    {
     "data": {
      "text/plain": [
       "<Figure size 800x800 with 1 Axes>"
      ],
      "image/png": "[encoded data removed]"
     },
     "metadata": {},
     "output_type": "display_data"
    },
    {
     "name": "stdout",
     "output_type": "stream",
     "text": [
      "Số lượng hành khách mua vé hạng nhất tại Southampton: 127\n",
      "\n",
      "Tuổi trung bình của tất cả hành khách: 29.70\n",
      "Tuổi trung bình của những người sống sót: 28.34\n",
      "\n",
      "Tỷ lệ sống sót theo giới tính:\n",
      "Sex\n",
      "female    0.742038\n",
      "male      0.188908\n",
      "Name: Survived, dtype: float64\n",
      "Số lượng nữ sống sót có tuổi lớn hơn tuổi trung bình: 92\n"
     ]
    }
   ],
   "execution_count": 13
  },
  {
   "metadata": {},
   "cell_type": "markdown",
   "source": "# Bai 3",
   "id": "bb6c3f7800558ed4"
  },
  {
   "metadata": {
    "ExecuteTime": {
     "end_time": "2025-02-26T08:16:39.558217Z",
     "start_time": "2025-02-26T08:16:39.531860Z"
    }
   },
   "cell_type": "code",
   "source": [
    "age_mean_pclass1 = df[df['Pclass'] == 1]['Age'].mean()\n",
    "age_median_pclass23 = df[df['Pclass'].isin([2, 3])]['Age'].median()\n",
    "\n",
    "df.loc[(df['Age'].isnull()) & (df['Pclass'] == 1), 'Age'] = age_mean_pclass1\n",
    "df.loc[(df['Age'].isnull()) & (df['Pclass'].isin([2, 3])), 'Age'] = age_median_pclass23\n",
    "\n",
    "print(\"Sau khi điền giá trị thiếu trong cột Age:\")\n",
    "print(df['Age'].isnull().sum(), \"giá trị còn thiếu\")\n",
    "\n",
    "\n",
    "fare_mean = df['Fare'].mean()\n",
    "\n",
    "df.loc[(df['Embarked'].isnull()) & (df['Fare'] > fare_mean), 'Embarked'] = 'C'  # Cherbourg\n",
    "df.loc[(df['Embarked'].isnull()) & (df['Fare'] <= fare_mean), 'Embarked'] = 'S'  # Southampton\n",
    "\n",
    "print(\"\\nSau khi điền giá trị thiếu trong cột Embarked:\")\n",
    "print(df['Embarked'].isnull().sum(), \"giá trị còn thiếu\")\n",
    "\n",
    "\n",
    "\n",
    "df = df.drop('Cabin', axis=1)\n",
    "print(\"\\nĐã xóa cột Cabin\")\n",
    "\n",
    "\n",
    "df['FamilySize'] = df['SibSp'] + df['Parch'] + 1\n",
    "print(\"\\nĐã tạo cột FamilySize:\")\n",
    "print(df[['SibSp', 'Parch', 'FamilySize']].head())\n",
    "\n",
    "\n",
    "\n",
    "df['Sex'] = df['Sex'].map({'male': 0, 'female': 1})\n",
    "print(\"\\nSau khi mã hóa cột Sex:\")\n",
    "print(df['Sex'].head())"
   ],
   "id": "455122761d96adaf",
   "outputs": [
    {
     "name": "stdout",
     "output_type": "stream",
     "text": [
      "Sau khi điền giá trị thiếu trong cột Age:\n",
      "0 giá trị còn thiếu\n",
      "\n",
      "Sau khi điền giá trị thiếu trong cột Embarked:\n",
      "0 giá trị còn thiếu\n",
      "\n",
      "Đã xóa cột Cabin\n",
      "\n",
      "Đã tạo cột FamilySize:\n",
      "   SibSp  Parch  FamilySize\n",
      "0      1      0           2\n",
      "1      1      0           2\n",
      "2      0      0           1\n",
      "3      1      0           2\n",
      "4      0      0           1\n",
      "\n",
      "Sau khi mã hóa cột Sex:\n",
      "0    0\n",
      "1    1\n",
      "2    1\n",
      "3    1\n",
      "4    0\n",
      "Name: Sex, dtype: int64\n"
     ]
    }
   ],
   "execution_count": 14
  },
  {
   "metadata": {},
   "cell_type": "markdown",
   "source": "# Bai 4",
   "id": "935f8bd1817605f6"
  },
  {
   "metadata": {
    "ExecuteTime": {
     "end_time": "2025-02-26T08:28:47.433064Z",
     "start_time": "2025-02-26T08:28:47.400197Z"
    }
   },
   "cell_type": "code",
   "source": [
    "fare_mean_by_pclass = df.groupby('Pclass')['Fare'].mean()\n",
    "print(\"Giá vé trung bình theo hạng vé:\")\n",
    "print(fare_mean_by_pclass)\n",
    "\n",
    "max_fare_passengers = df.loc[df.groupby('Pclass')['Fare'].idxmax()]\n",
    "print(\"\\nHành khách trả giá vé cao nhất theo hạng vé:\")\n",
    "print(max_fare_passengers[['Pclass', 'Name', 'Fare']])\n",
    "\n",
    "\n",
    "\n",
    "age_bins = [0, 18, 35, 60, float('inf')]  # Các khoảng: 0-18, 19-35, 36-60, >60\n",
    "age_labels = ['0-18', '19-35', '36-60', '>60']\n",
    "df['AgeGroup'] = pd.cut(df['Age'], bins=age_bins, labels=age_labels, right=False)\n",
    "\n",
    "survival_by_age_group = df[df['Survived'] == 1].groupby('AgeGroup')['Survived'].count()\n",
    "print(\"\\nSố lượng hành khách sống sót theo nhóm tuổi:\")\n",
    "print(survival_by_age_group)\n",
    "\n",
    "\n",
    "\n",
    "high_fare_df = df[df['Fare'] > 50]\n",
    "high_fare_df.to_csv('titanic/high_fare_passengers.csv', index=False)\n",
    "print(\"\\nĐã lưu hành khách có Fare > 50 vào 'high_fare_passengers.csv'\")\n",
    "print(\"Số hành khách:\", high_fare_df.shape[0])\n",
    "\n",
    "\n",
    "\n",
    "summary_df = df.groupby(['Pclass', 'Survived']).size().unstack()\n",
    "summary_df.columns = ['Not Survived', 'Survived']\n",
    "summary_df.to_csv('titanic/summary.csv')\n",
    "print(\"\\nThống kê số lượng hành khách theo Pclass và Survived:\")\n",
    "print(summary_df)\n",
    "print(\"Đã lưu vào 'summary.csv'\")"
   ],
   "id": "a42ace21b62a8557",
   "outputs": [
    {
     "name": "stdout",
     "output_type": "stream",
     "text": [
      "Giá vé trung bình theo hạng vé:\n",
      "Pclass\n",
      "1    84.154687\n",
      "2    20.662183\n",
      "3    13.675550\n",
      "Name: Fare, dtype: float64\n",
      "\n",
      "Hành khách trả giá vé cao nhất theo hạng vé:\n",
      "     Pclass                        Name      Fare\n",
      "258       1            Ward, Miss. Anna  512.3292\n",
      "72        2        Hood, Mr. Ambrose Jr   73.5000\n",
      "159       3  Sage, Master. Thomas Henry   69.5500\n",
      "\n",
      "Số lượng hành khách sống sót theo nhóm tuổi:\n",
      "AgeGroup\n",
      "0-18      61\n",
      "19-35    173\n",
      "36-60    101\n",
      ">60        7\n",
      "Name: Survived, dtype: int64\n",
      "\n",
      "Đã lưu hành khách có Fare > 50 vào 'high_fare_passengers.csv'\n",
      "Số hành khách: 160\n",
      "\n",
      "Thống kê số lượng hành khách theo Pclass và Survived:\n",
      "        Not Survived  Survived\n",
      "Pclass                        \n",
      "1                 80       136\n",
      "2                 97        87\n",
      "3                372       119\n",
      "Đã lưu vào 'summary.csv'\n"
     ]
    },
    {
     "name": "stderr",
     "output_type": "stream",
     "text": [
      "C:\\Users\\manhv\\AppData\\Local\\Temp\\ipykernel_10352\\905397945.py:15: FutureWarning: The default of observed=False is deprecated and will be changed to True in a future version of pandas. Pass observed=False to retain current behavior or observed=True to adopt the future default and silence this warning.\n",
      "  survival_by_age_group = df[df['Survived'] == 1].groupby('AgeGroup')['Survived'].count()\n"
     ]
    }
   ],
   "execution_count": 17
  },
  {
   "metadata": {},
   "cell_type": "code",
   "outputs": [],
   "execution_count": null,
   "source": "",
   "id": "c73189d7c5be0fcb"
  }
 ],
 "metadata": {
  "kernelspec": {
   "display_name": "Python 3",
   "language": "python",
   "name": "python3"
  },
  "language_info": {
   "codemirror_mode": {
    "name": "ipython",
    "version": 2
   },
   "file_extension": ".py",
   "mimetype": "text/x-python",
   "name": "python",
   "nbconvert_exporter": "python",
   "pygments_lexer": "ipython2",
   "version": "2.7.6"
  }
 },
 "nbformat": 4,
 "nbformat_minor": 5
}
